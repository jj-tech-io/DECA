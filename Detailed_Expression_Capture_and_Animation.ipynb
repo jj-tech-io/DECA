{
  "cells": [
    {
      "cell_type": "markdown",
      "metadata": {
        "colab_type": "text",
        "id": "view-in-github"
      },
      "source": [
        "<a href=\"https://colab.research.google.com/github/YadiraF/DECA/blob/master/Detailed_Expression_Capture_and_Animation.ipynb\" target=\"_parent\"><img src=\"https://colab.research.google.com/assets/colab-badge.svg\" alt=\"Open In Colab\"/></a>"
      ]
    },
    {
      "cell_type": "markdown",
      "metadata": {
        "id": "LKXziS2IzAg2"
      },
      "source": [
        "<center>\n",
        "\n",
        "# DECA: Detailed Expression Capture and Animation\n",
        "\n",
        "Code in [![GitHub stars](https://img.shields.io/github/stars/yadiraf/DECA?style=social)](https://github.com/YadiraF/DECA)\n",
        "\n",
        "Page at [![](https://img.shields.io/badge/Project-Page-blue?style=flat&logo=Google%20chrome&logoColor=blue)](https://deca.is.tue.mpg.de/)\n",
        "\n",
        "Made by [![Yao](https://img.shields.io/twitter/follow/yaofeng1995?style=social)](https://twitter.com/yaofeng1995)\n",
        "\n",
        "![extreme](https://deca.is.tue.mpg.de/uploads/ckeditor/pictures/642/content_teaser.gif)\n",
        "\n",
        "</center>\n",
        "\n",
        "Thanks [mhoangvslev](https://github.com/mhoangvslev) for contributing to this Colab document. "
      ]
    },
    {
      "cell_type": "markdown",
      "metadata": {
        "id": "j0hyU8s5f_SB"
      },
      "source": [
        "# Setup"
      ]
    },
    {
      "cell_type": "code",
      "execution_count": 1,
      "metadata": {
        "id": "x8Gm4LXA3Fay"
      },
      "outputs": [
        {
          "name": "stderr",
          "output_type": "stream",
          "text": [
            "UsageError: Line magic function `%tensorflow_version` not found.\n"
          ]
        }
      ],
      "source": [
        "%tensorflow_version 1.x"
      ]
    },
    {
      "cell_type": "code",
      "execution_count": 7,
      "metadata": {
        "id": "bB5Ii6bkBYWc"
      },
      "outputs": [
        {
          "name": "stdout",
          "output_type": "stream",
          "text": [
            "Looking in indexes: https://pypi.org/simple, https://pypi.ngc.nvidia.com\n",
            "Requirement already satisfied: torch in c:\\users\\joeli\\miniforge3\\envs\\deca38\\lib\\site-packages (2.1.2)\n",
            "Collecting torchvision\n",
            "  Downloading torchvision-0.16.2-cp38-cp38-win_amd64.whl.metadata (6.6 kB)\n",
            "Requirement already satisfied: filelock in c:\\users\\joeli\\miniforge3\\envs\\deca38\\lib\\site-packages (from torch) (3.13.1)\n",
            "Requirement already satisfied: typing-extensions in c:\\users\\joeli\\miniforge3\\envs\\deca38\\lib\\site-packages (from torch) (4.9.0)\n",
            "Requirement already satisfied: sympy in c:\\users\\joeli\\miniforge3\\envs\\deca38\\lib\\site-packages (from torch) (1.12)\n",
            "Requirement already satisfied: networkx in c:\\users\\joeli\\miniforge3\\envs\\deca38\\lib\\site-packages (from torch) (3.1)\n",
            "Requirement already satisfied: jinja2 in c:\\users\\joeli\\miniforge3\\envs\\deca38\\lib\\site-packages (from torch) (3.1.3)\n",
            "Requirement already satisfied: fsspec in c:\\users\\joeli\\miniforge3\\envs\\deca38\\lib\\site-packages (from torch) (2023.12.2)\n",
            "Requirement already satisfied: numpy in c:\\users\\joeli\\miniforge3\\envs\\deca38\\lib\\site-packages (from torchvision) (1.24.4)\n",
            "Collecting requests (from torchvision)\n",
            "  Downloading requests-2.31.0-py3-none-any.whl.metadata (4.6 kB)\n",
            "Requirement already satisfied: pillow!=8.3.*,>=5.3.0 in c:\\users\\joeli\\miniforge3\\envs\\deca38\\lib\\site-packages (from torchvision) (10.2.0)\n",
            "Requirement already satisfied: MarkupSafe>=2.0 in c:\\users\\joeli\\miniforge3\\envs\\deca38\\lib\\site-packages (from jinja2->torch) (2.1.3)\n",
            "Collecting charset-normalizer<4,>=2 (from requests->torchvision)\n",
            "  Downloading charset_normalizer-3.3.2-cp38-cp38-win_amd64.whl.metadata (34 kB)\n",
            "Collecting idna<4,>=2.5 (from requests->torchvision)\n",
            "  Downloading idna-3.6-py3-none-any.whl.metadata (9.9 kB)\n",
            "Collecting urllib3<3,>=1.21.1 (from requests->torchvision)\n",
            "  Downloading urllib3-2.1.0-py3-none-any.whl.metadata (6.4 kB)\n",
            "Collecting certifi>=2017.4.17 (from requests->torchvision)\n",
            "  Downloading certifi-2023.11.17-py3-none-any.whl.metadata (2.2 kB)\n",
            "Requirement already satisfied: mpmath>=0.19 in c:\\users\\joeli\\miniforge3\\envs\\deca38\\lib\\site-packages (from sympy->torch) (1.3.0)\n",
            "Downloading torchvision-0.16.2-cp38-cp38-win_amd64.whl (1.1 MB)\n",
            "   ---------------------------------------- 0.0/1.1 MB ? eta -:--:--\n",
            "   -------- ------------------------------- 0.2/1.1 MB 5.0 MB/s eta 0:00:01\n",
            "   ---------------------------------------- 1.1/1.1 MB 14.5 MB/s eta 0:00:00\n",
            "Downloading requests-2.31.0-py3-none-any.whl (62 kB)\n",
            "   ---------------------------------------- 0.0/62.6 kB ? eta -:--:--\n",
            "   ---------------------------------------- 62.6/62.6 kB ? eta 0:00:00\n",
            "Downloading certifi-2023.11.17-py3-none-any.whl (162 kB)\n",
            "   ---------------------------------------- 0.0/162.5 kB ? eta -:--:--\n",
            "   ---------------------------------------- 162.5/162.5 kB ? eta 0:00:00\n",
            "Downloading charset_normalizer-3.3.2-cp38-cp38-win_amd64.whl (99 kB)\n",
            "   ---------------------------------------- 0.0/99.6 kB ? eta -:--:--\n",
            "   ---------------------------------------- 99.6/99.6 kB ? eta 0:00:00\n",
            "Downloading idna-3.6-py3-none-any.whl (61 kB)\n",
            "   ---------------------------------------- 0.0/61.6 kB ? eta -:--:--\n",
            "   ---------------------------------------- 61.6/61.6 kB ? eta 0:00:00\n",
            "Downloading urllib3-2.1.0-py3-none-any.whl (104 kB)\n",
            "   ---------------------------------------- 0.0/104.6 kB ? eta -:--:--\n",
            "   ---------------------------------------- 104.6/104.6 kB ? eta 0:00:00\n",
            "Installing collected packages: urllib3, idna, charset-normalizer, certifi, requests, torchvision\n",
            "Successfully installed certifi-2023.11.17 charset-normalizer-3.3.2 idna-3.6 requests-2.31.0 torchvision-0.16.2 urllib3-2.1.0\n"
          ]
        },
        {
          "name": "stderr",
          "output_type": "stream",
          "text": [
            "ERROR: Could not find a version that satisfies the requirement pytorch3d (from versions: none)\n",
            "ERROR: No matching distribution found for pytorch3d\n"
          ]
        },
        {
          "name": "stdout",
          "output_type": "stream",
          "text": [
            "Looking in indexes: https://pypi.org/simple, https://pypi.ngc.nvidia.com\n",
            "Requirement already satisfied: numpy in c:\\users\\joeli\\miniforge3\\envs\\deca38\\lib\\site-packages (1.24.4)\n",
            "Requirement already satisfied: scipy in c:\\users\\joeli\\miniforge3\\envs\\deca38\\lib\\site-packages (1.10.1)\n",
            "Requirement already satisfied: chumpy in c:\\users\\joeli\\miniforge3\\envs\\deca38\\lib\\site-packages (0.70)\n",
            "Requirement already satisfied: scikit-image in c:\\users\\joeli\\miniforge3\\envs\\deca38\\lib\\site-packages (0.21.0)\n",
            "Requirement already satisfied: opencv-python in c:\\users\\joeli\\miniforge3\\envs\\deca38\\lib\\site-packages (4.9.0.80)\n",
            "Requirement already satisfied: PyYAML in c:\\users\\joeli\\miniforge3\\envs\\deca38\\lib\\site-packages (6.0.1)\n",
            "Requirement already satisfied: face-alignment in c:\\users\\joeli\\miniforge3\\envs\\deca38\\lib\\site-packages (1.4.1)\n",
            "Requirement already satisfied: yacs in c:\\users\\joeli\\miniforge3\\envs\\deca38\\lib\\site-packages (0.1.8)\n",
            "Requirement already satisfied: kornia in c:\\users\\joeli\\miniforge3\\envs\\deca38\\lib\\site-packages (0.7.1)\n",
            "Requirement already satisfied: ninja in c:\\users\\joeli\\miniforge3\\envs\\deca38\\lib\\site-packages (1.11.1.1)\n",
            "Requirement already satisfied: fvcore in c:\\users\\joeli\\miniforge3\\envs\\deca38\\lib\\site-packages (0.1.5.post20221221)\n",
            "Requirement already satisfied: six>=1.11.0 in c:\\users\\joeli\\miniforge3\\envs\\deca38\\lib\\site-packages (from chumpy) (1.16.0)\n",
            "Requirement already satisfied: networkx>=2.8 in c:\\users\\joeli\\miniforge3\\envs\\deca38\\lib\\site-packages (from scikit-image) (3.1)\n",
            "Requirement already satisfied: pillow>=9.0.1 in c:\\users\\joeli\\miniforge3\\envs\\deca38\\lib\\site-packages (from scikit-image) (10.2.0)\n",
            "Requirement already satisfied: imageio>=2.27 in c:\\users\\joeli\\miniforge3\\envs\\deca38\\lib\\site-packages (from scikit-image) (2.33.1)\n",
            "Requirement already satisfied: tifffile>=2022.8.12 in c:\\users\\joeli\\miniforge3\\envs\\deca38\\lib\\site-packages (from scikit-image) (2023.7.10)\n",
            "Requirement already satisfied: PyWavelets>=1.1.1 in c:\\users\\joeli\\miniforge3\\envs\\deca38\\lib\\site-packages (from scikit-image) (1.4.1)\n",
            "Requirement already satisfied: packaging>=21 in c:\\users\\joeli\\miniforge3\\envs\\deca38\\lib\\site-packages (from scikit-image) (23.2)\n",
            "Requirement already satisfied: lazy_loader>=0.2 in c:\\users\\joeli\\miniforge3\\envs\\deca38\\lib\\site-packages (from scikit-image) (0.3)\n",
            "Requirement already satisfied: torch in c:\\users\\joeli\\miniforge3\\envs\\deca38\\lib\\site-packages (from face-alignment) (2.1.2)\n",
            "Requirement already satisfied: tqdm in c:\\users\\joeli\\miniforge3\\envs\\deca38\\lib\\site-packages (from face-alignment) (4.66.1)\n",
            "Requirement already satisfied: numba in c:\\users\\joeli\\miniforge3\\envs\\deca38\\lib\\site-packages (from face-alignment) (0.58.1)\n",
            "Requirement already satisfied: termcolor>=1.1 in c:\\users\\joeli\\miniforge3\\envs\\deca38\\lib\\site-packages (from fvcore) (2.4.0)\n",
            "Requirement already satisfied: tabulate in c:\\users\\joeli\\miniforge3\\envs\\deca38\\lib\\site-packages (from fvcore) (0.9.0)\n",
            "Requirement already satisfied: iopath>=0.1.7 in c:\\users\\joeli\\miniforge3\\envs\\deca38\\lib\\site-packages (from fvcore) (0.1.10)\n",
            "Requirement already satisfied: typing-extensions in c:\\users\\joeli\\miniforge3\\envs\\deca38\\lib\\site-packages (from iopath>=0.1.7->fvcore) (4.9.0)\n",
            "Requirement already satisfied: portalocker in c:\\users\\joeli\\miniforge3\\envs\\deca38\\lib\\site-packages (from iopath>=0.1.7->fvcore) (2.8.2)\n",
            "Requirement already satisfied: filelock in c:\\users\\joeli\\miniforge3\\envs\\deca38\\lib\\site-packages (from torch->face-alignment) (3.13.1)\n",
            "Requirement already satisfied: sympy in c:\\users\\joeli\\miniforge3\\envs\\deca38\\lib\\site-packages (from torch->face-alignment) (1.12)\n",
            "Requirement already satisfied: jinja2 in c:\\users\\joeli\\miniforge3\\envs\\deca38\\lib\\site-packages (from torch->face-alignment) (3.1.3)\n",
            "Requirement already satisfied: fsspec in c:\\users\\joeli\\miniforge3\\envs\\deca38\\lib\\site-packages (from torch->face-alignment) (2023.12.2)\n",
            "Requirement already satisfied: llvmlite<0.42,>=0.41.0dev0 in c:\\users\\joeli\\miniforge3\\envs\\deca38\\lib\\site-packages (from numba->face-alignment) (0.41.1)\n",
            "Requirement already satisfied: importlib-metadata in c:\\users\\joeli\\miniforge3\\envs\\deca38\\lib\\site-packages (from numba->face-alignment) (7.0.1)\n",
            "Requirement already satisfied: colorama in c:\\users\\joeli\\miniforge3\\envs\\deca38\\lib\\site-packages (from tqdm->face-alignment) (0.4.6)\n",
            "Requirement already satisfied: zipp>=0.5 in c:\\users\\joeli\\miniforge3\\envs\\deca38\\lib\\site-packages (from importlib-metadata->numba->face-alignment) (3.17.0)\n",
            "Requirement already satisfied: MarkupSafe>=2.0 in c:\\users\\joeli\\miniforge3\\envs\\deca38\\lib\\site-packages (from jinja2->torch->face-alignment) (2.1.3)\n",
            "Requirement already satisfied: pywin32>=226 in c:\\users\\joeli\\miniforge3\\envs\\deca38\\lib\\site-packages (from portalocker->iopath>=0.1.7->fvcore) (306)\n",
            "Requirement already satisfied: mpmath>=0.19 in c:\\users\\joeli\\miniforge3\\envs\\deca38\\lib\\site-packages (from sympy->torch->face-alignment) (1.3.0)\n"
          ]
        },
        {
          "name": "stderr",
          "output_type": "stream",
          "text": [
            "ERROR: pip's dependency resolver does not currently take into account all the packages that are installed. This behaviour is the source of the following dependency conflicts.\n",
            "mediapipe 0.10.9 requires absl-py, which is not installed.\n",
            "mediapipe 0.10.9 requires flatbuffers>=2.0, which is not installed.\n",
            "mediapipe 0.10.9 requires protobuf<4,>=3.11, which is not installed.\n",
            "scikit-image 0.21.0 requires numpy>=1.21.1, but you have numpy 1.19.0 which is incompatible.\n"
          ]
        }
      ],
      "source": [
        "import os\n",
        "\n",
        "\n",
        "# Clone the GitHub repository\n",
        "# !git clone https://github.com/yadiraf/DECA\n",
        "\n",
        "# Change the current directory to 'DECA/'\n",
        "\n",
        "\n",
        "# Install the latest versions of torch and torchvision\n",
        "!pip install torch torchvision\n",
        "\n",
        "# Install pytorch3d without displaying output\n",
        "!pip install -q pytorch3d\n",
        "\n",
        "# Install other required packages without displaying output\n",
        "!pip install numpy scipy chumpy scikit-image opencv-python PyYAML face-alignment yacs kornia ninja fvcore\n",
        "\n",
        "# Install lucid, gdown, matplotlib without displaying output\n",
        "!pip install -q lucid>=0.2.3 gdown matplotlib"
      ]
    },
    {
      "cell_type": "code",
      "execution_count": null,
      "metadata": {
        "id": "ZmSRqqrvCIwx"
      },
      "outputs": [],
      "source": [
        "#@title Download models\n",
        "#@markdown By executing this cell, you agree to the [LICENSE](https://flame.is.tue.mpg.de/modellicense.html) provided by Max-Planck-Gesellschaft zur Förderung der Wissenschaften e.V\n",
        "\n",
        "print(\"Downloading FLAME2020 model...\")\n",
        "!gdown --id 18eHkbq2W3aJJVUNTM3QwFK0dPaeNoRAz -O FLAME2020.zip\n",
        "!unzip -o FLAME2020.zip -d data/\n",
        "\n",
        "print(\"Downloading deca_model...\")\n",
        "!gdown --id 1rp8kdyLPvErw2dTmqtjISRVvQLj6Yzje -O data/deca_model.tar"
      ]
    },
    {
      "cell_type": "markdown",
      "metadata": {
        "id": "TuLFayzVf6h-"
      },
      "source": [
        "# Face reconstruction"
      ]
    },
    {
      "cell_type": "code",
      "execution_count": 2,
      "metadata": {
        "id": "iiFP_JPZHjVf"
      },
      "outputs": [
        {
          "name": "stdout",
          "output_type": "stream",
          "text": [
            "Setting up...\n",
            "Check for NVIDIA Driver...\n"
          ]
        },
        {
          "name": "stderr",
          "output_type": "stream",
          "text": [
            "ERROR: Could not find a version that satisfies the requirement torch<1.7.0,>=1.6.0 (from kornia) (from versions: 1.7.1, 1.8.0, 1.8.1, 1.9.0, 1.9.1, 1.10.0, 1.10.1, 1.10.2, 1.11.0, 1.12.0, 1.12.1, 1.13.0, 1.13.1, 2.0.0, 2.0.1, 2.1.0, 2.1.1, 2.1.2)\n",
            "ERROR: No matching distribution found for torch<1.7.0,>=1.6.0\n"
          ]
        },
        {
          "name": "stdout",
          "output_type": "stream",
          "text": [
            "Tue Jan 16 17:55:40 2024       \n",
            "+---------------------------------------------------------------------------------------+\n",
            "| NVIDIA-SMI 546.33                 Driver Version: 546.33       CUDA Version: 12.3     |\n",
            "|-----------------------------------------+----------------------+----------------------+\n",
            "| GPU  Name                     TCC/WDDM  | Bus-Id        Disp.A | Volatile Uncorr. ECC |\n",
            "| Fan  Temp   Perf          Pwr:Usage/Cap |         Memory-Usage | GPU-Util  Compute M. |\n",
            "|                                         |                      |               MIG M. |\n",
            "|=========================================+======================+======================|\n",
            "|   0  NVIDIA GeForce RTX 4090      WDDM  | 00000000:01:00.0  On |                  Off |\n",
            "| 32%   34C    P2              92W / 450W |   2829MiB / 24564MiB |      3%      Default |\n",
            "|                                         |                      |                  N/A |\n",
            "+-----------------------------------------+----------------------+----------------------+\n",
            "                                                                                         \n",
            "+---------------------------------------------------------------------------------------+\n",
            "| Processes:                                                                            |\n",
            "|  GPU   GI   CI        PID   Type   Process name                            GPU Memory |\n",
            "|        ID   ID                                                             Usage      |\n",
            "|=======================================================================================|\n",
            "|    0   N/A  N/A      3764    C+G   ...Programs\\Microsoft VS Code\\Code.exe    N/A      |\n",
            "|    0   N/A  N/A      7908    C+G   ...Desktop\\app-3.3.6\\GitHubDesktop.exe    N/A      |\n",
            "|    0   N/A  N/A      8632    C+G   ...CBS_cw5n1h2txyewy\\TextInputHost.exe    N/A      |\n",
            "|    0   N/A  N/A      9628    C+G   ...tionsPlus\\logioptionsplus_agent.exe    N/A      |\n",
            "|    0   N/A  N/A      9644    C+G   ...3.0_x64__cv1g1gvanyjgm\\WhatsApp.exe    N/A      |\n",
            "|    0   N/A  N/A     10292    C+G   C:\\Windows\\explorer.exe                   N/A      |\n",
            "|    0   N/A  N/A     10388    C+G   ...__8wekyb3d8bbwe\\WindowsTerminal.exe    N/A      |\n",
            "|    0   N/A  N/A     11868    C+G   ...nt.CBS_cw5n1h2txyewy\\SearchHost.exe    N/A      |\n",
            "|    0   N/A  N/A     12044    C+G   ...2txyewy\\StartMenuExperienceHost.exe    N/A      |\n",
            "|    0   N/A  N/A     12076    C+G   ...__8wekyb3d8bbwe\\Microsoft.Notes.exe    N/A      |\n",
            "|    0   N/A  N/A     13952    C+G   ...siveControlPanel\\SystemSettings.exe    N/A      |\n",
            "|    0   N/A  N/A     16680    C+G   ...GeForce Experience\\NVIDIA Share.exe    N/A      |\n",
            "|    0   N/A  N/A     18584    C+G   ...5n1h2txyewy\\ShellExperienceHost.exe    N/A      |\n",
            "|    0   N/A  N/A     19368    C+G   ...ekyb3d8bbwe\\PhoneExperienceHost.exe    N/A      |\n",
            "|    0   N/A  N/A     19488    C+G   ...s\\Autodesk\\Autodesk AdSSO\\AdSSO.exe    N/A      |\n",
            "|    0   N/A  N/A     20028    C+G   ...up\\ui-launcher\\AdskAccessUIHost.exe    N/A      |\n",
            "|    0   N/A  N/A     20668    C+G   ...\\cef\\cef.win7x64\\steamwebhelper.exe    N/A      |\n",
            "|    0   N/A  N/A     22212    C+G   ...es (x86)\\Dropbox\\Client\\Dropbox.exe    N/A      |\n",
            "|    0   N/A  N/A     22324    C+G   ...12.0_x64__8wekyb3d8bbwe\\GameBar.exe    N/A      |\n",
            "|    0   N/A  N/A     23320    C+G   ...on\\HEX\\Creative Cloud UI Helper.exe    N/A      |\n",
            "|    0   N/A  N/A     24452    C+G   ...ejd91yc\\AdobeNotificationClient.exe    N/A      |\n",
            "|    0   N/A  N/A     27756      C   ...iniforge3\\envs\\torch_311\\python.exe    N/A      |\n",
            "|    0   N/A  N/A     32268    C+G   ...__8wekyb3d8bbwe\\Notepad\\Notepad.exe    N/A      |\n",
            "+---------------------------------------------------------------------------------------+\n",
            "Running experiments...\n"
          ]
        },
        {
          "name": "stderr",
          "output_type": "stream",
          "text": [
            "Traceback (most recent call last):\n",
            "  File \"demos/demo_reconstruct.py\", line 26, in <module>\n",
            "    from decalib.deca import DECA\n",
            "  File \"c:\\Users\\joeli\\Dropbox\\Code\\Python Projects\\DECA\\decalib\\deca.py\", line 18, in <module>\n",
            "    import torchvision\n",
            "ModuleNotFoundError: No module named 'torchvision'\n"
          ]
        }
      ],
      "source": [
        "#@title Run paper demo\n",
        "print(\"Setting up...\")\n",
        "!pip install -q kornia==0.4.0 yacs==0.1.8 face_alignment ninja fvcore\n",
        "\n",
        "print(\"Check for NVIDIA Driver...\")\n",
        "!nvidia-smi\n",
        "\n",
        "print(\"Running experiments...\")\n",
        "import os\n",
        "input_folder = \"TestSamples/AFLW2000\" #@param {type:\"string\"}\n",
        "output_folder = os.path.join(input_folder, \"results\")\n",
        "!python demos/demo_reconstruct.py -i $input_folder -s $output_folder --saveDepth True --saveObj True\n"
      ]
    },
    {
      "cell_type": "code",
      "execution_count": 8,
      "metadata": {
        "id": "Ny9lRkxefRPz"
      },
      "outputs": [
        {
          "name": "stdout",
          "output_type": "stream",
          "text": [
            "Setting up...\n",
            "Check for NVIDIA Driver...\n"
          ]
        },
        {
          "name": "stderr",
          "output_type": "stream",
          "text": [
            "ERROR: pip's dependency resolver does not currently take into account all the packages that are installed. This behaviour is the source of the following dependency conflicts.\n",
            "mediapipe 0.10.9 requires absl-py, which is not installed.\n",
            "mediapipe 0.10.9 requires flatbuffers>=2.0, which is not installed.\n",
            "mediapipe 0.10.9 requires protobuf<4,>=3.11, which is not installed.\n",
            "lucid 0.3.10 requires numpy<=1.19, but you have numpy 1.23.5 which is incompatible.\n"
          ]
        },
        {
          "name": "stdout",
          "output_type": "stream",
          "text": [
            "Tue Jan 16 18:19:36 2024       \n",
            "+---------------------------------------------------------------------------------------+\n",
            "| NVIDIA-SMI 546.33                 Driver Version: 546.33       CUDA Version: 12.3     |\n",
            "|-----------------------------------------+----------------------+----------------------+\n",
            "| GPU  Name                     TCC/WDDM  | Bus-Id        Disp.A | Volatile Uncorr. ECC |\n",
            "| Fan  Temp   Perf          Pwr:Usage/Cap |         Memory-Usage | GPU-Util  Compute M. |\n",
            "|                                         |                      |               MIG M. |\n",
            "|=========================================+======================+======================|\n",
            "|   0  NVIDIA GeForce RTX 4090      WDDM  | 00000000:01:00.0  On |                  Off |\n",
            "| 32%   26C    P2              66W / 450W |   2720MiB / 24564MiB |      3%      Default |\n",
            "|                                         |                      |                  N/A |\n",
            "+-----------------------------------------+----------------------+----------------------+\n",
            "                                                                                         \n",
            "+---------------------------------------------------------------------------------------+\n",
            "| Processes:                                                                            |\n",
            "|  GPU   GI   CI        PID   Type   Process name                            GPU Memory |\n",
            "|        ID   ID                                                             Usage      |\n",
            "|=======================================================================================|\n",
            "|    0   N/A  N/A      3764    C+G   ...Programs\\Microsoft VS Code\\Code.exe    N/A      |\n",
            "|    0   N/A  N/A      7908    C+G   ...Desktop\\app-3.3.6\\GitHubDesktop.exe    N/A      |\n",
            "|    0   N/A  N/A      8632    C+G   ...CBS_cw5n1h2txyewy\\TextInputHost.exe    N/A      |\n",
            "|    0   N/A  N/A      9628    C+G   ...tionsPlus\\logioptionsplus_agent.exe    N/A      |\n",
            "|    0   N/A  N/A      9644    C+G   ...3.0_x64__cv1g1gvanyjgm\\WhatsApp.exe    N/A      |\n",
            "|    0   N/A  N/A     10292    C+G   C:\\Windows\\explorer.exe                   N/A      |\n",
            "|    0   N/A  N/A     10388    C+G   ...__8wekyb3d8bbwe\\WindowsTerminal.exe    N/A      |\n",
            "|    0   N/A  N/A     11868    C+G   ...nt.CBS_cw5n1h2txyewy\\SearchHost.exe    N/A      |\n",
            "|    0   N/A  N/A     12044    C+G   ...2txyewy\\StartMenuExperienceHost.exe    N/A      |\n",
            "|    0   N/A  N/A     12076    C+G   ...__8wekyb3d8bbwe\\Microsoft.Notes.exe    N/A      |\n",
            "|    0   N/A  N/A     13952    C+G   ...siveControlPanel\\SystemSettings.exe    N/A      |\n",
            "|    0   N/A  N/A     16680    C+G   ...GeForce Experience\\NVIDIA Share.exe    N/A      |\n",
            "|    0   N/A  N/A     18584    C+G   ...5n1h2txyewy\\ShellExperienceHost.exe    N/A      |\n",
            "|    0   N/A  N/A     19368    C+G   ...ekyb3d8bbwe\\PhoneExperienceHost.exe    N/A      |\n",
            "|    0   N/A  N/A     19488    C+G   ...s\\Autodesk\\Autodesk AdSSO\\AdSSO.exe    N/A      |\n",
            "|    0   N/A  N/A     20028    C+G   ...up\\ui-launcher\\AdskAccessUIHost.exe    N/A      |\n",
            "|    0   N/A  N/A     20668    C+G   ...\\cef\\cef.win7x64\\steamwebhelper.exe    N/A      |\n",
            "|    0   N/A  N/A     22212    C+G   ...es (x86)\\Dropbox\\Client\\Dropbox.exe    N/A      |\n",
            "|    0   N/A  N/A     22324    C+G   ...12.0_x64__8wekyb3d8bbwe\\GameBar.exe    N/A      |\n",
            "|    0   N/A  N/A     23320    C+G   ...on\\HEX\\Creative Cloud UI Helper.exe    N/A      |\n",
            "|    0   N/A  N/A     24452    C+G   ...ejd91yc\\AdobeNotificationClient.exe    N/A      |\n",
            "|    0   N/A  N/A     27756      C   ...iniforge3\\envs\\torch_311\\python.exe    N/A      |\n",
            "|    0   N/A  N/A     32268    C+G   ...__8wekyb3d8bbwe\\Notepad\\Notepad.exe    N/A      |\n",
            "+---------------------------------------------------------------------------------------+\n",
            "Running experiments...\n"
          ]
        },
        {
          "name": "stderr",
          "output_type": "stream",
          "text": [
            "Traceback (most recent call last):\n",
            "  File \"demos/demo_reconstruct.py\", line 131, in <module>\n",
            "    main(parser.parse_args())\n",
            "  File \"demos/demo_reconstruct.py\", line 40, in main\n",
            "    testdata = datasets.TestData(args.inputpath, iscrop=args.iscrop, face_detector=args.detector, sample_step=args.sample_step)\n",
            "  File \"c:\\Users\\joeli\\Dropbox\\Code\\Python Projects\\DECA\\decalib\\datasets\\datasets.py\", line 71, in __init__\n",
            "    self.face_detector = detectors.FAN()\n",
            "  File \"c:\\Users\\joeli\\Dropbox\\Code\\Python Projects\\DECA\\decalib\\datasets\\detectors.py\", line 22, in __init__\n",
            "    self.model = face_alignment.FaceAlignment(face_alignment.LandmarksType._2D, flip_input=False)\n",
            "  File \"c:\\Users\\joeli\\miniforge3\\envs\\deca38\\lib\\enum.py\", line 384, in __getattr__\n",
            "    raise AttributeError(name) from None\n",
            "AttributeError: _2D\n"
          ]
        },
        {
          "name": "stdout",
          "output_type": "stream",
          "text": [
            "visualize one exmaple below\n",
            "Please check all results in /content/results\n"
          ]
        }
      ],
      "source": [
        "#@title Use your own image\n",
        "#@markdown Upload your images to `upload` folder under `DECA`\n",
        "print(\"Setting up...\")\n",
        "!pip install -q kornia yacs face_alignment ninja fvcore\n",
        "\n",
        "print(\"Check for NVIDIA Driver...\")\n",
        "!nvidia-smi\n",
        "\n",
        "print(\"Running experiments...\")\n",
        "import os\n",
        "input_folder = \"/content/\" #@param {type:\"string\"}\n",
        "output_folder = os.path.join(input_folder, \"results\")\n",
        "!python demos/demo_reconstruct.py -i $input_folder -s $output_folder --saveDepth True --saveObj True\n",
        "\n",
        "## show results \n",
        "print('visualize one exmaple below')\n",
        "import matplotlib.pyplot as plt\n",
        "from glob import glob\n",
        "from PIL import Image\n",
        "vispath_list = glob(output_folder+'/*_size.jpg')\n",
        "for vispath in vispath_list:\n",
        "  image = Image.open(vispath)\n",
        "  plt.figure(figsize=(20, 20))\n",
        "  plt.imshow(image)\n",
        "  plt.axis(\"off\");\n",
        "  break\n",
        "print(f'Please check all results in {output_folder}')\n"
      ]
    },
    {
      "cell_type": "code",
      "execution_count": 10,
      "metadata": {
        "id": "zuBCgeH08tdn"
      },
      "outputs": [
        {
          "name": "stdout",
          "output_type": "stream",
          "text": [
            "('/content/results', [], [])\n",
            "Download results...\n"
          ]
        },
        {
          "ename": "NameError",
          "evalue": "name 'files' is not defined",
          "output_type": "error",
          "traceback": [
            "\u001b[1;31m---------------------------------------------------------------------------\u001b[0m",
            "\u001b[1;31mNameError\u001b[0m                                 Traceback (most recent call last)",
            "Cell \u001b[1;32mIn[10], line 10\u001b[0m\n\u001b[0;32m      8\u001b[0m \u001b[38;5;28mprint\u001b[39m(\u001b[38;5;124mf\u001b[39m\u001b[38;5;124m'\u001b[39m\u001b[38;5;124mDownload results...\u001b[39m\u001b[38;5;124m'\u001b[39m)\n\u001b[0;32m      9\u001b[0m os\u001b[38;5;241m.\u001b[39msystem(\u001b[38;5;124mf\u001b[39m\u001b[38;5;124m'\u001b[39m\u001b[38;5;124mzip -r DECA_results.zip \u001b[39m\u001b[38;5;132;01m{\u001b[39;00m\u001b[38;5;124m\"\u001b[39m\u001b[38;5;124m \u001b[39m\u001b[38;5;124m\"\u001b[39m\u001b[38;5;241m.\u001b[39mjoin(folders)\u001b[38;5;132;01m}\u001b[39;00m\u001b[38;5;124m'\u001b[39m)\n\u001b[1;32m---> 10\u001b[0m \u001b[43mfiles\u001b[49m\u001b[38;5;241m.\u001b[39mdownload(\u001b[38;5;124m\"\u001b[39m\u001b[38;5;124mDECA_results.zip\u001b[39m\u001b[38;5;124m\"\u001b[39m)\n",
            "\u001b[1;31mNameError\u001b[0m: name 'files' is not defined"
          ]
        }
      ],
      "source": [
        "#@title Download the result\n",
        "import os\n",
        "# from google.colab import files\n",
        "\n",
        "print(next(os.walk(output_folder)))\n",
        "folders = [ os.path.join(output_folder, f) for f in next(os.walk(os.path.join(input_folder, 'results')))[1] ]\n",
        "\n",
        "print(f'Download results...')\n",
        "os.system(f'zip -r DECA_results.zip {\" \".join(folders)}')\n",
        "files.download(\"DECA_results.zip\")"
      ]
    }
  ],
  "metadata": {
    "accelerator": "GPU",
    "colab": {
      "collapsed_sections": [],
      "include_colab_link": true,
      "name": "Copy of Detailed Expression Capture and Animation.ipynb",
      "private_outputs": true,
      "provenance": [],
      "toc_visible": true
    },
    "kernelspec": {
      "display_name": "Python 3",
      "name": "python3"
    },
    "language_info": {
      "codemirror_mode": {
        "name": "ipython",
        "version": 3
      },
      "file_extension": ".py",
      "mimetype": "text/x-python",
      "name": "python",
      "nbconvert_exporter": "python",
      "pygments_lexer": "ipython3",
      "version": "3.8.18"
    }
  },
  "nbformat": 4,
  "nbformat_minor": 0
}
